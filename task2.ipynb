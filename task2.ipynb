{
  "nbformat": 4,
  "nbformat_minor": 0,
  "metadata": {
    "colab": {
      "provenance": [],
      "mount_file_id": "1kKnBUO-_y3uRMUihttQD3JUrauVj8SkQ",
      "authorship_tag": "ABX9TyPlAMhQf1C5q+yRbrKjmAbd",
      "include_colab_link": true
    },
    "kernelspec": {
      "name": "python3",
      "display_name": "Python 3"
    },
    "language_info": {
      "name": "python"
    }
  },
  "cells": [
    {
      "cell_type": "markdown",
      "metadata": {
        "id": "view-in-github",
        "colab_type": "text"
      },
      "source": [
        "<a href=\"https://colab.research.google.com/github/TurboGooseEdu/machine-learning/blob/task-2/task2.ipynb\" target=\"_parent\"><img src=\"https://colab.research.google.com/assets/colab-badge.svg\" alt=\"Open In Colab\"/></a>"
      ]
    },
    {
      "cell_type": "markdown",
      "source": [
        "# Задача 2. Линейная регрессия, метод градиентного спуска"
      ],
      "metadata": {
        "id": "eiJ6x5P88KOu"
      }
    },
    {
      "cell_type": "markdown",
      "source": [
        "Выполнил: Коновалов Илья, группа 23.М07-мм"
      ],
      "metadata": {
        "id": "bRWBfsR6xZqI"
      }
    },
    {
      "cell_type": "markdown",
      "source": [
        "## Задача\n",
        "\n",
        "- [x] Самостоятельно реализовать функцию **gradient_descent(X, y)**, которая по заданной обучающей выборке обучает модель линейной регрессии, оптимизируя функционал **методом градиентного спуска (Batch Gradient Descent, GD)** и возвращая вектор весов **w**. В качестве функционала можно выбрать, например, функцию ошибок **MSE** + $L_2$-регуляризатор. Использовать матрично-векторные операции для вычисления градиента.\n",
        "- [x] Найти данные, на которых интересно будет решать задачу регрессии. Зависимость целевого признака от нецелевых должна быть не слишком сложной, чтобы обученная линейная модель смогла показать приемлимый результат. В крайнем случае взять данные для предсказания стоимости машин [тут](https://github.com/rustam-azimov/ml-course-itmo/tree/main/data/car_price) (целевой признак для предсказания --- **price**).\n",
        "- [x] Считать данные, выполнить первичный анализ данных, при необходимости произвести чистку данных (**Data Cleaning**).\n",
        "- [x] Выполнить разведочный анализ (**EDA**), использовать визуализацию, сделать выводы, которые могут быть полезны при дальнейшем решении задачи регрессии.\n",
        "- [x] При необходимости выполнить полезные преобразования данных (например, трансформировать категориальные признаки в количественные), убрать ненужные признаки, создать новые (**Feature Engineering**).\n",
        "- [x] Случайным образом разбить данные на **обучающую** и **тестовую** выборки, используя методы существующих библиотек.\n",
        "- [x] При обучении моделей использовать **масштабирование данных**.\n",
        "- [x] Обучить модель на обучающей выборке, используя функцию **gradient_descent(X, y)**. Оценить качество модели на обучающей и тестовой выборках, используя **MSE**, **RMSE** и $R^2$.\n",
        "- [x] Обучить модель, используя существующую библиотеку. Например, в **sklearn** для $L_2$-регуляризатора можно использовать **Ridge**. Сравнить качество с Вашей реализацией.\n",
        "- [x] Повторить тоже самое, но используя **кросс-валидацию**.\n",
        "- [x] Создать таблицу, со строками (mse-train, mse-test, rmse-train, rmse-test, r2-train, r2-test) и столбцами (Fold1, Fold2, ..., Foldk, E, STD), где k --- количество фолдов в кросс-валидации, **E** --- мат. ожидание и **STD** --- стандартное отклонение. Сделать выводы.\n",
        "- [x] (+2 балла) Перед обучением моделей подобрать наилучшее количество (и само подмножество) признаков, например используя **Recursive Feature Elimination (RFE)** из **sklearn**.\n",
        "- [x] (+1 балл) Во все ваши реализации добавить возможность настройки нужных **гиперпараметров**, а в процессе обучения **всех** моделей осуществить подбор оптимальных значений этих гиперпараметров.\n",
        "- [ ] (+1 балл) Также самостоятельно реализовать **метод стохастического градиентного спуска (Stochastic Gradient Descent, SGD)**, обучить модели и добавить их во все сравнения.\n",
        "- [x] (+1 балл) Также самостоятельно реализовать **метод мини-пакетного градиентного спуска (Mini Batch Gradient Descent)**, обучить модели и добавить их во все сравнения."
      ],
      "metadata": {
        "id": "YgUu6avZEYZB"
      }
    },
    {
      "cell_type": "code",
      "execution_count": 1,
      "metadata": {
        "id": "JPL0v13mC07I"
      },
      "outputs": [],
      "source": [
        "import pandas as pd\n",
        "import numpy as np\n",
        "import seaborn as sns\n",
        "from matplotlib import pyplot as plt\n",
        "from sklearn.feature_selection import RFE\n",
        "from sklearn.linear_model import LinearRegression, Ridge\n",
        "from sklearn.metrics import mean_squared_error, mean_absolute_error, mean_absolute_percentage_error, r2_score\n",
        "from sklearn.model_selection import GridSearchCV, KFold, cross_val_score, train_test_split\n",
        "from sklearn.preprocessing import LabelEncoder, StandardScaler\n",
        "import random\n",
        "\n",
        "%matplotlib inline\n",
        "\n",
        "import warnings\n",
        "warnings.filterwarnings(\"ignore\")"
      ]
    },
    {
      "cell_type": "markdown",
      "source": [
        "# EDA"
      ],
      "metadata": {
        "id": "u75OHW997m9-"
      }
    },
    {
      "cell_type": "markdown",
      "source": [
        "## Датасет\n",
        "Используемый [датасет](https://www.kaggle.com/datasets/mirichoi0218/insurance),содержит данные по медецинскому страхованию.\n",
        "\n",
        "## Описание признаков\n",
        "- `age`: возраст\n",
        "- `sex`: пол\n",
        "- `bmi`: индекс массы тела\n",
        "- `children`: количество детей\n",
        "- `smoker`: курящий или нет\n",
        "- `region`: район проживания (northeast, southeast, southwest, northwest)\n",
        "- `charges`: медицинские расходы\n",
        "\n",
        "Целевым признаком будет `charges`"
      ],
      "metadata": {
        "id": "QEjqHYpJSDCP"
      }
    },
    {
      "cell_type": "code",
      "source": [
        "df = pd.read_csv('/content/drive/MyDrive/ml/datasets/insurance.csv')"
      ],
      "metadata": {
        "id": "3ruzjKZNHkVp"
      },
      "execution_count": 2,
      "outputs": []
    },
    {
      "cell_type": "code",
      "source": [
        "df.info()"
      ],
      "metadata": {
        "id": "y-LMER-mSnBR",
        "colab": {
          "base_uri": "https://localhost:8080/"
        },
        "outputId": "e6713f37-5b7c-4346-e44a-6ed58b357f60"
      },
      "execution_count": 3,
      "outputs": [
        {
          "output_type": "stream",
          "name": "stdout",
          "text": [
            "<class 'pandas.core.frame.DataFrame'>\n",
            "RangeIndex: 1338 entries, 0 to 1337\n",
            "Data columns (total 7 columns):\n",
            " #   Column    Non-Null Count  Dtype  \n",
            "---  ------    --------------  -----  \n",
            " 0   age       1338 non-null   int64  \n",
            " 1   sex       1338 non-null   object \n",
            " 2   bmi       1338 non-null   float64\n",
            " 3   children  1338 non-null   int64  \n",
            " 4   smoker    1338 non-null   object \n",
            " 5   region    1338 non-null   object \n",
            " 6   charges   1338 non-null   float64\n",
            "dtypes: float64(2), int64(2), object(3)\n",
            "memory usage: 73.3+ KB\n"
          ]
        }
      ]
    },
    {
      "cell_type": "markdown",
      "source": [
        "Проверим количество пропусков в данных"
      ],
      "metadata": {
        "id": "C2-PA8pnnmPM"
      }
    },
    {
      "cell_type": "code",
      "source": [
        "df.isnull().sum()"
      ],
      "metadata": {
        "id": "GnQ9CiVsR2-p",
        "colab": {
          "base_uri": "https://localhost:8080/"
        },
        "outputId": "63f64154-c6fd-4279-97d2-bf618e849479"
      },
      "execution_count": 4,
      "outputs": [
        {
          "output_type": "execute_result",
          "data": {
            "text/plain": [
              "age         0\n",
              "sex         0\n",
              "bmi         0\n",
              "children    0\n",
              "smoker      0\n",
              "region      0\n",
              "charges     0\n",
              "dtype: int64"
            ]
          },
          "metadata": {},
          "execution_count": 4
        }
      ]
    },
    {
      "cell_type": "code",
      "source": [
        "df.describe(include=\"all\")"
      ],
      "metadata": {
        "id": "gv4goVUStFGP",
        "colab": {
          "base_uri": "https://localhost:8080/",
          "height": 394
        },
        "outputId": "a00e3eed-3a13-49c5-b2c5-c88fcee5b1a3"
      },
      "execution_count": 5,
      "outputs": [
        {
          "output_type": "execute_result",
          "data": {
            "text/plain": [
              "                age   sex          bmi     children smoker     region  \\\n",
              "count   1338.000000  1338  1338.000000  1338.000000   1338       1338   \n",
              "unique          NaN     2          NaN          NaN      2          4   \n",
              "top             NaN  male          NaN          NaN     no  southeast   \n",
              "freq            NaN   676          NaN          NaN   1064        364   \n",
              "mean      39.207025   NaN    30.663397     1.094918    NaN        NaN   \n",
              "std       14.049960   NaN     6.098187     1.205493    NaN        NaN   \n",
              "min       18.000000   NaN    15.960000     0.000000    NaN        NaN   \n",
              "25%       27.000000   NaN    26.296250     0.000000    NaN        NaN   \n",
              "50%       39.000000   NaN    30.400000     1.000000    NaN        NaN   \n",
              "75%       51.000000   NaN    34.693750     2.000000    NaN        NaN   \n",
              "max       64.000000   NaN    53.130000     5.000000    NaN        NaN   \n",
              "\n",
              "             charges  \n",
              "count    1338.000000  \n",
              "unique           NaN  \n",
              "top              NaN  \n",
              "freq             NaN  \n",
              "mean    13270.422265  \n",
              "std     12110.011237  \n",
              "min      1121.873900  \n",
              "25%      4740.287150  \n",
              "50%      9382.033000  \n",
              "75%     16639.912515  \n",
              "max     63770.428010  "
            ],
            "text/html": [
              "\n",
              "  <div id=\"df-2bf621c0-31e8-43ff-8d41-639d15c70ded\" class=\"colab-df-container\">\n",
              "    <div>\n",
              "<style scoped>\n",
              "    .dataframe tbody tr th:only-of-type {\n",
              "        vertical-align: middle;\n",
              "    }\n",
              "\n",
              "    .dataframe tbody tr th {\n",
              "        vertical-align: top;\n",
              "    }\n",
              "\n",
              "    .dataframe thead th {\n",
              "        text-align: right;\n",
              "    }\n",
              "</style>\n",
              "<table border=\"1\" class=\"dataframe\">\n",
              "  <thead>\n",
              "    <tr style=\"text-align: right;\">\n",
              "      <th></th>\n",
              "      <th>age</th>\n",
              "      <th>sex</th>\n",
              "      <th>bmi</th>\n",
              "      <th>children</th>\n",
              "      <th>smoker</th>\n",
              "      <th>region</th>\n",
              "      <th>charges</th>\n",
              "    </tr>\n",
              "  </thead>\n",
              "  <tbody>\n",
              "    <tr>\n",
              "      <th>count</th>\n",
              "      <td>1338.000000</td>\n",
              "      <td>1338</td>\n",
              "      <td>1338.000000</td>\n",
              "      <td>1338.000000</td>\n",
              "      <td>1338</td>\n",
              "      <td>1338</td>\n",
              "      <td>1338.000000</td>\n",
              "    </tr>\n",
              "    <tr>\n",
              "      <th>unique</th>\n",
              "      <td>NaN</td>\n",
              "      <td>2</td>\n",
              "      <td>NaN</td>\n",
              "      <td>NaN</td>\n",
              "      <td>2</td>\n",
              "      <td>4</td>\n",
              "      <td>NaN</td>\n",
              "    </tr>\n",
              "    <tr>\n",
              "      <th>top</th>\n",
              "      <td>NaN</td>\n",
              "      <td>male</td>\n",
              "      <td>NaN</td>\n",
              "      <td>NaN</td>\n",
              "      <td>no</td>\n",
              "      <td>southeast</td>\n",
              "      <td>NaN</td>\n",
              "    </tr>\n",
              "    <tr>\n",
              "      <th>freq</th>\n",
              "      <td>NaN</td>\n",
              "      <td>676</td>\n",
              "      <td>NaN</td>\n",
              "      <td>NaN</td>\n",
              "      <td>1064</td>\n",
              "      <td>364</td>\n",
              "      <td>NaN</td>\n",
              "    </tr>\n",
              "    <tr>\n",
              "      <th>mean</th>\n",
              "      <td>39.207025</td>\n",
              "      <td>NaN</td>\n",
              "      <td>30.663397</td>\n",
              "      <td>1.094918</td>\n",
              "      <td>NaN</td>\n",
              "      <td>NaN</td>\n",
              "      <td>13270.422265</td>\n",
              "    </tr>\n",
              "    <tr>\n",
              "      <th>std</th>\n",
              "      <td>14.049960</td>\n",
              "      <td>NaN</td>\n",
              "      <td>6.098187</td>\n",
              "      <td>1.205493</td>\n",
              "      <td>NaN</td>\n",
              "      <td>NaN</td>\n",
              "      <td>12110.011237</td>\n",
              "    </tr>\n",
              "    <tr>\n",
              "      <th>min</th>\n",
              "      <td>18.000000</td>\n",
              "      <td>NaN</td>\n",
              "      <td>15.960000</td>\n",
              "      <td>0.000000</td>\n",
              "      <td>NaN</td>\n",
              "      <td>NaN</td>\n",
              "      <td>1121.873900</td>\n",
              "    </tr>\n",
              "    <tr>\n",
              "      <th>25%</th>\n",
              "      <td>27.000000</td>\n",
              "      <td>NaN</td>\n",
              "      <td>26.296250</td>\n",
              "      <td>0.000000</td>\n",
              "      <td>NaN</td>\n",
              "      <td>NaN</td>\n",
              "      <td>4740.287150</td>\n",
              "    </tr>\n",
              "    <tr>\n",
              "      <th>50%</th>\n",
              "      <td>39.000000</td>\n",
              "      <td>NaN</td>\n",
              "      <td>30.400000</td>\n",
              "      <td>1.000000</td>\n",
              "      <td>NaN</td>\n",
              "      <td>NaN</td>\n",
              "      <td>9382.033000</td>\n",
              "    </tr>\n",
              "    <tr>\n",
              "      <th>75%</th>\n",
              "      <td>51.000000</td>\n",
              "      <td>NaN</td>\n",
              "      <td>34.693750</td>\n",
              "      <td>2.000000</td>\n",
              "      <td>NaN</td>\n",
              "      <td>NaN</td>\n",
              "      <td>16639.912515</td>\n",
              "    </tr>\n",
              "    <tr>\n",
              "      <th>max</th>\n",
              "      <td>64.000000</td>\n",
              "      <td>NaN</td>\n",
              "      <td>53.130000</td>\n",
              "      <td>5.000000</td>\n",
              "      <td>NaN</td>\n",
              "      <td>NaN</td>\n",
              "      <td>63770.428010</td>\n",
              "    </tr>\n",
              "  </tbody>\n",
              "</table>\n",
              "</div>\n",
              "    <div class=\"colab-df-buttons\">\n",
              "\n",
              "  <div class=\"colab-df-container\">\n",
              "    <button class=\"colab-df-convert\" onclick=\"convertToInteractive('df-2bf621c0-31e8-43ff-8d41-639d15c70ded')\"\n",
              "            title=\"Convert this dataframe to an interactive table.\"\n",
              "            style=\"display:none;\">\n",
              "\n",
              "  <svg xmlns=\"http://www.w3.org/2000/svg\" height=\"24px\" viewBox=\"0 -960 960 960\">\n",
              "    <path d=\"M120-120v-720h720v720H120Zm60-500h600v-160H180v160Zm220 220h160v-160H400v160Zm0 220h160v-160H400v160ZM180-400h160v-160H180v160Zm440 0h160v-160H620v160ZM180-180h160v-160H180v160Zm440 0h160v-160H620v160Z\"/>\n",
              "  </svg>\n",
              "    </button>\n",
              "\n",
              "  <style>\n",
              "    .colab-df-container {\n",
              "      display:flex;\n",
              "      gap: 12px;\n",
              "    }\n",
              "\n",
              "    .colab-df-convert {\n",
              "      background-color: #E8F0FE;\n",
              "      border: none;\n",
              "      border-radius: 50%;\n",
              "      cursor: pointer;\n",
              "      display: none;\n",
              "      fill: #1967D2;\n",
              "      height: 32px;\n",
              "      padding: 0 0 0 0;\n",
              "      width: 32px;\n",
              "    }\n",
              "\n",
              "    .colab-df-convert:hover {\n",
              "      background-color: #E2EBFA;\n",
              "      box-shadow: 0px 1px 2px rgba(60, 64, 67, 0.3), 0px 1px 3px 1px rgba(60, 64, 67, 0.15);\n",
              "      fill: #174EA6;\n",
              "    }\n",
              "\n",
              "    .colab-df-buttons div {\n",
              "      margin-bottom: 4px;\n",
              "    }\n",
              "\n",
              "    [theme=dark] .colab-df-convert {\n",
              "      background-color: #3B4455;\n",
              "      fill: #D2E3FC;\n",
              "    }\n",
              "\n",
              "    [theme=dark] .colab-df-convert:hover {\n",
              "      background-color: #434B5C;\n",
              "      box-shadow: 0px 1px 3px 1px rgba(0, 0, 0, 0.15);\n",
              "      filter: drop-shadow(0px 1px 2px rgba(0, 0, 0, 0.3));\n",
              "      fill: #FFFFFF;\n",
              "    }\n",
              "  </style>\n",
              "\n",
              "    <script>\n",
              "      const buttonEl =\n",
              "        document.querySelector('#df-2bf621c0-31e8-43ff-8d41-639d15c70ded button.colab-df-convert');\n",
              "      buttonEl.style.display =\n",
              "        google.colab.kernel.accessAllowed ? 'block' : 'none';\n",
              "\n",
              "      async function convertToInteractive(key) {\n",
              "        const element = document.querySelector('#df-2bf621c0-31e8-43ff-8d41-639d15c70ded');\n",
              "        const dataTable =\n",
              "          await google.colab.kernel.invokeFunction('convertToInteractive',\n",
              "                                                    [key], {});\n",
              "        if (!dataTable) return;\n",
              "\n",
              "        const docLinkHtml = 'Like what you see? Visit the ' +\n",
              "          '<a target=\"_blank\" href=https://colab.research.google.com/notebooks/data_table.ipynb>data table notebook</a>'\n",
              "          + ' to learn more about interactive tables.';\n",
              "        element.innerHTML = '';\n",
              "        dataTable['output_type'] = 'display_data';\n",
              "        await google.colab.output.renderOutput(dataTable, element);\n",
              "        const docLink = document.createElement('div');\n",
              "        docLink.innerHTML = docLinkHtml;\n",
              "        element.appendChild(docLink);\n",
              "      }\n",
              "    </script>\n",
              "  </div>\n",
              "\n",
              "\n",
              "<div id=\"df-8c233fc4-a02c-41fb-a373-2b98f469dba6\">\n",
              "  <button class=\"colab-df-quickchart\" onclick=\"quickchart('df-8c233fc4-a02c-41fb-a373-2b98f469dba6')\"\n",
              "            title=\"Suggest charts.\"\n",
              "            style=\"display:none;\">\n",
              "\n",
              "<svg xmlns=\"http://www.w3.org/2000/svg\" height=\"24px\"viewBox=\"0 0 24 24\"\n",
              "     width=\"24px\">\n",
              "    <g>\n",
              "        <path d=\"M19 3H5c-1.1 0-2 .9-2 2v14c0 1.1.9 2 2 2h14c1.1 0 2-.9 2-2V5c0-1.1-.9-2-2-2zM9 17H7v-7h2v7zm4 0h-2V7h2v10zm4 0h-2v-4h2v4z\"/>\n",
              "    </g>\n",
              "</svg>\n",
              "  </button>\n",
              "\n",
              "<style>\n",
              "  .colab-df-quickchart {\n",
              "      --bg-color: #E8F0FE;\n",
              "      --fill-color: #1967D2;\n",
              "      --hover-bg-color: #E2EBFA;\n",
              "      --hover-fill-color: #174EA6;\n",
              "      --disabled-fill-color: #AAA;\n",
              "      --disabled-bg-color: #DDD;\n",
              "  }\n",
              "\n",
              "  [theme=dark] .colab-df-quickchart {\n",
              "      --bg-color: #3B4455;\n",
              "      --fill-color: #D2E3FC;\n",
              "      --hover-bg-color: #434B5C;\n",
              "      --hover-fill-color: #FFFFFF;\n",
              "      --disabled-bg-color: #3B4455;\n",
              "      --disabled-fill-color: #666;\n",
              "  }\n",
              "\n",
              "  .colab-df-quickchart {\n",
              "    background-color: var(--bg-color);\n",
              "    border: none;\n",
              "    border-radius: 50%;\n",
              "    cursor: pointer;\n",
              "    display: none;\n",
              "    fill: var(--fill-color);\n",
              "    height: 32px;\n",
              "    padding: 0;\n",
              "    width: 32px;\n",
              "  }\n",
              "\n",
              "  .colab-df-quickchart:hover {\n",
              "    background-color: var(--hover-bg-color);\n",
              "    box-shadow: 0 1px 2px rgba(60, 64, 67, 0.3), 0 1px 3px 1px rgba(60, 64, 67, 0.15);\n",
              "    fill: var(--button-hover-fill-color);\n",
              "  }\n",
              "\n",
              "  .colab-df-quickchart-complete:disabled,\n",
              "  .colab-df-quickchart-complete:disabled:hover {\n",
              "    background-color: var(--disabled-bg-color);\n",
              "    fill: var(--disabled-fill-color);\n",
              "    box-shadow: none;\n",
              "  }\n",
              "\n",
              "  .colab-df-spinner {\n",
              "    border: 2px solid var(--fill-color);\n",
              "    border-color: transparent;\n",
              "    border-bottom-color: var(--fill-color);\n",
              "    animation:\n",
              "      spin 1s steps(1) infinite;\n",
              "  }\n",
              "\n",
              "  @keyframes spin {\n",
              "    0% {\n",
              "      border-color: transparent;\n",
              "      border-bottom-color: var(--fill-color);\n",
              "      border-left-color: var(--fill-color);\n",
              "    }\n",
              "    20% {\n",
              "      border-color: transparent;\n",
              "      border-left-color: var(--fill-color);\n",
              "      border-top-color: var(--fill-color);\n",
              "    }\n",
              "    30% {\n",
              "      border-color: transparent;\n",
              "      border-left-color: var(--fill-color);\n",
              "      border-top-color: var(--fill-color);\n",
              "      border-right-color: var(--fill-color);\n",
              "    }\n",
              "    40% {\n",
              "      border-color: transparent;\n",
              "      border-right-color: var(--fill-color);\n",
              "      border-top-color: var(--fill-color);\n",
              "    }\n",
              "    60% {\n",
              "      border-color: transparent;\n",
              "      border-right-color: var(--fill-color);\n",
              "    }\n",
              "    80% {\n",
              "      border-color: transparent;\n",
              "      border-right-color: var(--fill-color);\n",
              "      border-bottom-color: var(--fill-color);\n",
              "    }\n",
              "    90% {\n",
              "      border-color: transparent;\n",
              "      border-bottom-color: var(--fill-color);\n",
              "    }\n",
              "  }\n",
              "</style>\n",
              "\n",
              "  <script>\n",
              "    async function quickchart(key) {\n",
              "      const quickchartButtonEl =\n",
              "        document.querySelector('#' + key + ' button');\n",
              "      quickchartButtonEl.disabled = true;  // To prevent multiple clicks.\n",
              "      quickchartButtonEl.classList.add('colab-df-spinner');\n",
              "      try {\n",
              "        const charts = await google.colab.kernel.invokeFunction(\n",
              "            'suggestCharts', [key], {});\n",
              "      } catch (error) {\n",
              "        console.error('Error during call to suggestCharts:', error);\n",
              "      }\n",
              "      quickchartButtonEl.classList.remove('colab-df-spinner');\n",
              "      quickchartButtonEl.classList.add('colab-df-quickchart-complete');\n",
              "    }\n",
              "    (() => {\n",
              "      let quickchartButtonEl =\n",
              "        document.querySelector('#df-8c233fc4-a02c-41fb-a373-2b98f469dba6 button');\n",
              "      quickchartButtonEl.style.display =\n",
              "        google.colab.kernel.accessAllowed ? 'block' : 'none';\n",
              "    })();\n",
              "  </script>\n",
              "</div>\n",
              "    </div>\n",
              "  </div>\n"
            ]
          },
          "metadata": {},
          "execution_count": 5
        }
      ]
    },
    {
      "cell_type": "markdown",
      "source": [
        "Данное описание говорит нам, что:\n",
        "- В выборке примерно порвну мужчин и женщин\n",
        "- Средний возраст составляет 40 лет\n",
        "- В среднем имеется один ребенок\n",
        "- 3/4 из претендентов не курящие\n",
        "- Среднее значение расходов на медобслуживание находится в районе 13000, однако также имеется большой разбос по значению сопоставимый со средним значением - 12000"
      ],
      "metadata": {
        "id": "JKaYPo3ml86n"
      }
    },
    {
      "cell_type": "markdown",
      "source": [
        "## Рассмотрим распределение целевого признака"
      ],
      "metadata": {
        "id": "dFO7gRmx11ZL"
      }
    },
    {
      "cell_type": "code",
      "source": [
        "sns.histplot(df, x=\"charges\");"
      ],
      "metadata": {
        "id": "rQey2xVV14zH",
        "colab": {
          "base_uri": "https://localhost:8080/",
          "height": 449
        },
        "outputId": "fb2f26fb-6210-45c6-b628-13c76450efa5"
      },
      "execution_count": 6,
      "outputs": [
        {
          "output_type": "display_data",
          "data": {
            "text/plain": [
              "<Figure size 640x480 with 1 Axes>"
            ],
            "image/png": "[encoded data removed]"
          },
          "metadata": {}
        }
      ]
    },
    {
      "cell_type": "markdown",
      "source": [
        "## Рассмотрим траты на медобслуживание в зависимости от пола"
      ],
      "metadata": {
        "id": "ylc5ab_vywT8"
      }
    },
    {
      "cell_type": "code",
      "source": [
        "sns.boxplot(df, x=\"sex\", y=\"charges\");"
      ],
      "metadata": {
        "id": "yK4F8R3eyjnR",
        "colab": {
          "base_uri": "https://localhost:8080/",
          "height": 449
        },
        "outputId": "611a63b3-009a-4a46-cdd8-532c05c9bdac"
      },
      "execution_count": 7,
      "outputs": [
        {
          "output_type": "display_data",
          "data": {
            "text/plain": [
              "<Figure size 640x480 with 1 Axes>"
            ],
            "image/png": "[encoded data removed]"
          },
          "metadata": {}
        }
      ]
    },
    {
      "cell_type": "markdown",
      "source": [
        "Видно, что для мужчин верхние перцентили находятся выше, чем для женщин, соответственно, расходы тоже выше"
      ],
      "metadata": {
        "id": "64SWpAvFsQjM"
      }
    },
    {
      "cell_type": "markdown",
      "source": [
        "## Рассмотрим траты на медобслуживание в зависимости от пола\n"
      ],
      "metadata": {
        "id": "WRcUMt_Bn8jQ"
      }
    },
    {
      "cell_type": "code",
      "source": [
        "sns.violinplot(x=\"sex\", y=\"charges\", data=df);"
      ],
      "metadata": {
        "colab": {
          "base_uri": "https://localhost:8080/",
          "height": 449
        },
        "id": "1a0-jIgun-IH",
        "outputId": "fc568c84-6391-41d0-88d5-1b2d9be1b2cd"
      },
      "execution_count": 8,
      "outputs": [
        {
          "output_type": "display_data",
          "data": {
            "text/plain": [
              "<Figure size 640x480 with 1 Axes>"
            ],
            "image/png": "[encoded data removed]"
          },
          "metadata": {}
        }
      ]
    },
    {
      "cell_type": "markdown",
      "source": [
        "Видно, что распределение примерно одинаковое для мужчин и для женщин"
      ],
      "metadata": {
        "id": "aAlWy2S8r7gL"
      }
    },
    {
      "cell_type": "markdown",
      "source": [
        "## Рассмотрим траты на медобслуживание для курильщиков"
      ],
      "metadata": {
        "id": "IUW4_E4_soXu"
      }
    },
    {
      "cell_type": "code",
      "source": [
        "sns.boxplot(df, x=\"smoker\", y=\"charges\");"
      ],
      "metadata": {
        "colab": {
          "base_uri": "https://localhost:8080/",
          "height": 449
        },
        "id": "_59nmaBZs0GB",
        "outputId": "eeed3b68-72a0-4d8b-a779-86499196f952"
      },
      "execution_count": 9,
      "outputs": [
        {
          "output_type": "display_data",
          "data": {
            "text/plain": [
              "<Figure size 640x480 with 1 Axes>"
            ],
            "image/png": "[encoded data removed]"
          },
          "metadata": {}
        }
      ]
    },
    {
      "cell_type": "markdown",
      "source": [
        "Видим, что у курильщиков расходы значительно выше"
      ],
      "metadata": {
        "id": "cl7HdbP0s8kJ"
      }
    },
    {
      "cell_type": "markdown",
      "source": [
        "## Рассмотрим траты на медобслуживание в зависимости от региона"
      ],
      "metadata": {
        "id": "bRcgW61FtDZq"
      }
    },
    {
      "cell_type": "code",
      "source": [
        "sns.boxplot(df, x=\"region\", y=\"charges\");"
      ],
      "metadata": {
        "colab": {
          "base_uri": "https://localhost:8080/",
          "height": 449
        },
        "id": "fy2bOwXysn42",
        "outputId": "6819765c-1395-4ce9-88b8-996ea603b190"
      },
      "execution_count": 10,
      "outputs": [
        {
          "output_type": "display_data",
          "data": {
            "text/plain": [
              "<Figure size 640x480 with 1 Axes>"
            ],
            "image/png": "[encoded data removed]"
          },
          "metadata": {}
        }
      ]
    },
    {
      "cell_type": "markdown",
      "source": [
        "Видно, что во всех регионах первый квартиль находится примерно на одинаковом уровне.\n",
        "В то же время в юго-восточном регионе интерквартильный размах больше, чем в остальных, что, скорее всего, может свидетельствовать о хорошем финансовом благосостоянии жителей данного региона."
      ],
      "metadata": {
        "id": "v44wx58Sthvd"
      }
    },
    {
      "cell_type": "markdown",
      "source": [
        "## Выполним кодирование категориальных признаков"
      ],
      "metadata": {
        "id": "wJSAq5DVuLm0"
      }
    },
    {
      "cell_type": "code",
      "source": [
        "le = LabelEncoder()\n",
        "\n",
        "df[\"sex\"] = le.fit_transform(df[\"sex\"])\n",
        "df[\"smoker\"] = le.fit_transform(df[\"smoker\"])\n",
        "df[\"region\"] = le.fit_transform(df[\"region\"])"
      ],
      "metadata": {
        "id": "tdPgm6C-dvwi"
      },
      "execution_count": 11,
      "outputs": []
    },
    {
      "cell_type": "markdown",
      "source": [
        "## Рассмотрим корреляцию полученных признаков"
      ],
      "metadata": {
        "id": "Ze4gzTnCf9dS"
      }
    },
    {
      "cell_type": "code",
      "source": [
        "sns.heatmap(df.corr(), annot=True, cmap='RdYlGn');"
      ],
      "metadata": {
        "id": "LWXTD_ThGiH5",
        "colab": {
          "base_uri": "https://localhost:8080/",
          "height": 435
        },
        "outputId": "c18ac01e-27d0-422a-e096-e48038765395"
      },
      "execution_count": 12,
      "outputs": [
        {
          "output_type": "display_data",
          "data": {
            "text/plain": [
              "<Figure size 640x480 with 2 Axes>"
            ],
            "image/png": "[encoded data removed]"
          },
          "metadata": {}
        }
      ]
    },
    {
      "cell_type": "markdown",
      "source": [
        "На матрице видна высокая корреляция страховых расходов с курением, что подтверждает ранее сделанный вывод. Также видна низковыраженная корреляция расходов с возрастом и индексом массы тела."
      ],
      "metadata": {
        "id": "kuVmG634uuj4"
      }
    },
    {
      "cell_type": "markdown",
      "source": [
        "# Линейная регрессия"
      ],
      "metadata": {
        "id": "cq0ymcie8PSN"
      }
    },
    {
      "cell_type": "markdown",
      "source": [
        "## MSE с L2 регуляризатором"
      ],
      "metadata": {
        "id": "43oqNWH07ebm"
      }
    },
    {
      "cell_type": "code",
      "source": [
        "def add_ones_col(matrix):\n",
        "    matrix = matrix.copy()\n",
        "    if matrix.ndim == 1:\n",
        "        matrix = matrix.reshape(-1, 1)\n",
        "    ones_vec = np.ones((matrix.shape[0], 1))\n",
        "    return np.hstack([ones_vec, matrix])\n",
        "\n",
        "def linear_model(x, w):\n",
        "    return np.matmul(add_ones_col(x), w)\n",
        "\n",
        "def MSE_L2(w, x, y, alpha):\n",
        "    y_new = linear_model(x, w)\n",
        "    return sum((y - y_new) ** 2) / len(y) + alpha * sum(w ** 2)"
      ],
      "metadata": {
        "id": "skPqK9G67UM9"
      },
      "execution_count": 13,
      "outputs": []
    },
    {
      "cell_type": "markdown",
      "source": [
        "## Модели линейной регрессии с вариациями градиентного спуска"
      ],
      "metadata": {
        "id": "mTecBiQ58eI5"
      }
    },
    {
      "cell_type": "code",
      "source": [
        "# GD\n",
        "def fit_gd(X, y, prec=1E-4, alpha=1, step=1E-2):\n",
        "      features_num = np.shape(X)[1]\n",
        "      X_sample = add_ones_col(X)\n",
        "      w = np.random.randn(features_num + 1, )\n",
        "      costs = []\n",
        "      while True:\n",
        "          y_pred = X_sample.dot(w)\n",
        "          error = y_pred - y\n",
        "          curr_cost = MSE_L2(w, x=X, y=y, alpha=alpha)\n",
        "          grad = (1 / X_sample.shape[0]) * (X_sample.T.dot(error) + alpha * w)\n",
        "          w -= step * grad\n",
        "          costs.append(curr_cost)\n",
        "          if len(costs) >= 2 and abs(costs[-1] - costs[-2]) < prec:\n",
        "              break\n",
        "      return w\n",
        "\n",
        "\n",
        "# minibatch GD\n",
        "def fit_mbgd(X, y, prec=1E-4, alpha=1, step=1E-2, max_iters=1000, batch_size=10):\n",
        "  samples_num = X.shape[0]\n",
        "  features_num = X.shape[1]\n",
        "  w = np.ones(features_num)\n",
        "  cost = 0\n",
        "\n",
        "  for _ in range(max_iters):\n",
        "      for _ in range(samples_num // batch_size):\n",
        "          batch_indices = random.sample(range(samples_num), batch_size)\n",
        "          x_batch, y_batch = X[batch_indices], y[batch_indices]\n",
        "          y_pred = np.dot(x_batch, w) + cost\n",
        "          err = y_batch - y_pred\n",
        "          cost -= (-2) * step * np.mean(err)\n",
        "          gradient = (-2) * np.dot(err, x_batch)\n",
        "          diff = step * gradient\n",
        "          w -= diff\n",
        "\n",
        "          if np.all(abs(diff) <= prec):\n",
        "              return w, cost\n",
        "  return w, cost"
      ],
      "metadata": {
        "id": "knBCgKg48V7c"
      },
      "execution_count": 14,
      "outputs": []
    },
    {
      "cell_type": "markdown",
      "source": [
        "Разбиение train-test"
      ],
      "metadata": {
        "id": "uh3t9e8rJqYH"
      }
    },
    {
      "cell_type": "code",
      "source": [
        "y = df['charges']\n",
        "x = df.drop(columns=['charges'])"
      ],
      "metadata": {
        "id": "CNLy20OujLPt"
      },
      "execution_count": 15,
      "outputs": []
    },
    {
      "cell_type": "code",
      "source": [
        "x_train, x_test, y_train, y_test = train_test_split(x, y, test_size=0.25, random_state=11)"
      ],
      "metadata": {
        "id": "TsN0MUzhJbPJ"
      },
      "execution_count": 16,
      "outputs": []
    },
    {
      "cell_type": "markdown",
      "source": [
        "Нахождение подмножества оптимальных признаков"
      ],
      "metadata": {
        "id": "P_aIORbsLMCD"
      }
    },
    {
      "cell_type": "code",
      "source": [
        "rfecv = RFE(estimator=LinearRegression())\n",
        "rfecv.fit(x_train, y_train)\n",
        "optimal_features = x.columns[rfecv.support_]\n",
        "\n",
        "print('Выбранные признаки: ')\n",
        "print(*optimal_features, sep=\", \")"
      ],
      "metadata": {
        "id": "zanpw2t1KONC",
        "colab": {
          "base_uri": "https://localhost:8080/"
        },
        "outputId": "a26380a9-82bb-485b-be32-041214d17c50"
      },
      "execution_count": 17,
      "outputs": [
        {
          "output_type": "stream",
          "name": "stdout",
          "text": [
            "Выбранные признаки: \n",
            "bmi, children, smoker\n"
          ]
        }
      ]
    },
    {
      "cell_type": "code",
      "source": [
        "x_train = x_train[optimal_features]\n",
        "x_test = x_test[optimal_features]"
      ],
      "metadata": {
        "id": "2SxzEvE3rLh3"
      },
      "execution_count": 18,
      "outputs": []
    },
    {
      "cell_type": "markdown",
      "source": [
        "Масшатирование признаков"
      ],
      "metadata": {
        "id": "4L2ZBekUKL7f"
      }
    },
    {
      "cell_type": "code",
      "source": [
        "scaler = StandardScaler()\n",
        "x_train = pd.DataFrame(scaler.fit_transform(x_train))\n",
        "x_test = pd.DataFrame(scaler.transform(x_test))"
      ],
      "metadata": {
        "id": "pmeVC1w5JtzG"
      },
      "execution_count": 19,
      "outputs": []
    },
    {
      "cell_type": "markdown",
      "source": [
        "Подбор гиперпараметров"
      ],
      "metadata": {
        "id": "iSG4OCZ6lCtd"
      }
    },
    {
      "cell_type": "code",
      "source": [
        "alpha_grid = np.logspace(-4, 4, 10)\n",
        "prec_grid = np.logspace(-4, 4, 10)\n",
        "\n",
        "searcher = GridSearchCV(\n",
        "    Ridge(),\n",
        "    [{\"alpha\": alpha_grid, \"tol\": prec_grid}],\n",
        "    scoring=\"neg_root_mean_squared_error\",\n",
        "    cv=5,\n",
        ")\n",
        "searcher.fit(x_train, y_train)\n",
        "\n",
        "optimal_alpha = searcher.best_params_[\"alpha\"]\n",
        "optimal_prec = searcher.best_params_[\"tol\"]\n",
        "\n",
        "print(\"Best alpha:\", optimal_alpha)\n",
        "print(\"Best prec:\", optimal_prec)"
      ],
      "metadata": {
        "id": "4oXivlAnlA1N",
        "colab": {
          "base_uri": "https://localhost:8080/"
        },
        "outputId": "3fd36cab-1f84-4945-98e4-646245985bf4"
      },
      "execution_count": 20,
      "outputs": [
        {
          "output_type": "stream",
          "name": "stdout",
          "text": [
            "Best alpha: 2.782559402207126\n",
            "Best prec: 0.0001\n"
          ]
        }
      ]
    },
    {
      "cell_type": "markdown",
      "source": [
        "## Вывод результатов"
      ],
      "metadata": {
        "id": "eGT1d_yGlqSR"
      }
    },
    {
      "cell_type": "code",
      "source": [
        "def print_results(y_train_pred, y_test_pred):\n",
        "    print(\"Test MSE:\", mean_squared_error(y_test, y_test_pred, squared=True))\n",
        "    print(\"Train MSE:\", mean_squared_error(y_train, y_train_pred, squared=True))\n",
        "    print(\"Test RMSE:\", mean_squared_error(y_test, y_test_pred, squared=False))\n",
        "    print(\"Train RMSE:\", mean_squared_error(y_train, y_train_pred, squared=False))\n",
        "    print(\"Test R^2:\", r2_score(y_test, y_test_pred))\n",
        "    print(\"Train R^2:\", r2_score(y_train, y_train_pred))"
      ],
      "metadata": {
        "id": "Ox0qSoljlpsz"
      },
      "execution_count": 21,
      "outputs": []
    },
    {
      "cell_type": "markdown",
      "source": [
        "## Обучение моделей"
      ],
      "metadata": {
        "id": "3nAkFBm1mKm2"
      }
    },
    {
      "cell_type": "markdown",
      "source": [
        "### Градиентный спуск"
      ],
      "metadata": {
        "id": "FmOHw8VjbQ4p"
      }
    },
    {
      "cell_type": "code",
      "source": [
        "w_gd = fit_gd(x_train, y_train, alpha=optimal_alpha, prec=optimal_prec)\n",
        "\n",
        "y_train_pred_gd = linear_model(x_train, w_gd)\n",
        "y_test_pred_gd = linear_model(x_test, w_gd)\n",
        "\n",
        "print_results(y_train_pred_gd, y_test_pred_gd)"
      ],
      "metadata": {
        "id": "TX7XC_87mEyb",
        "colab": {
          "base_uri": "https://localhost:8080/"
        },
        "outputId": "3f29581d-8220-4184-c37c-0cf681d637db"
      },
      "execution_count": 22,
      "outputs": [
        {
          "output_type": "stream",
          "name": "stdout",
          "text": [
            "Test MSE: 38968160.993361264\n",
            "Train MSE: 53212705.20777762\n",
            "Test RMSE: 6242.448317235896\n",
            "Train RMSE: 7294.70391501791\n",
            "Test R^2: 0.7215107808686779\n",
            "Train R^2: 0.642186967857607\n"
          ]
        }
      ]
    },
    {
      "cell_type": "markdown",
      "source": [
        "### Мини-пакетный градиентный спуск"
      ],
      "metadata": {
        "id": "4hxjE0ijbVfF"
      }
    },
    {
      "cell_type": "code",
      "source": [
        "w_mbgd, cost_mbgd = fit_mbgd(x_train.to_numpy(), y_train.to_numpy(), alpha=optimal_alpha, prec=optimal_prec, batch_size=x_train.shape[0] // 50)\n",
        "\n",
        "y_train_pred_mbgd = np.dot(x_train, w_mbgd) + cost_mbgd\n",
        "y_test_pred_mbgd = np.dot(x_test, w_mbgd) + cost_mbgd\n",
        "\n",
        "print_results(y_train_pred_mbgd, y_test_pred_mbgd)"
      ],
      "metadata": {
        "id": "sJQHpht5oLFJ",
        "colab": {
          "base_uri": "https://localhost:8080/"
        },
        "outputId": "2fbc0e25-f4ef-48bc-cb3d-e795f986ffa3"
      },
      "execution_count": 23,
      "outputs": [
        {
          "output_type": "stream",
          "name": "stdout",
          "text": [
            "Test MSE: 38647372.19444991\n",
            "Train MSE: 53673675.56848916\n",
            "Test RMSE: 6216.701070057165\n",
            "Train RMSE: 7326.2320171073725\n",
            "Test R^2: 0.7238033248286077\n",
            "Train R^2: 0.6390873095739333\n"
          ]
        }
      ]
    },
    {
      "cell_type": "markdown",
      "source": [
        "### Обучение библиотечной модели Ridge"
      ],
      "metadata": {
        "id": "W0ezVQYyob5P"
      }
    },
    {
      "cell_type": "code",
      "source": [
        "lib_ridge = Ridge(alpha=optimal_alpha, tol=optimal_prec)\n",
        "lib_ridge.fit(x_train, y_train);"
      ],
      "metadata": {
        "id": "txyMRMtCOeRz"
      },
      "execution_count": 24,
      "outputs": []
    },
    {
      "cell_type": "code",
      "source": [
        "y_train_pred_lib_ridge = lib_ridge.predict(x_train)\n",
        "y_test_pred_lib_ridge = lib_ridge.predict(x_test)\n",
        "\n",
        "print_results(y_train_pred_lib_ridge, y_test_pred_lib_ridge)"
      ],
      "metadata": {
        "colab": {
          "base_uri": "https://localhost:8080/"
        },
        "id": "-0DKuJYTV0AA",
        "outputId": "9c4d03e4-f154-4c4f-927a-274d07c13176"
      },
      "execution_count": 25,
      "outputs": [
        {
          "output_type": "stream",
          "name": "stdout",
          "text": [
            "Test MSE: 38988471.45467293\n",
            "Train MSE: 53211338.00047632\n",
            "Test RMSE: 6244.074907836462\n",
            "Train RMSE: 7294.610202092797\n",
            "Test R^2: 0.7213656304595568\n",
            "Train R^2: 0.6421961612370477\n"
          ]
        }
      ]
    },
    {
      "cell_type": "markdown",
      "source": [
        "## Кросс валидация"
      ],
      "metadata": {
        "id": "6q61myClX4qb"
      }
    },
    {
      "cell_type": "markdown",
      "source": [
        "### Градиентный спуск"
      ],
      "metadata": {
        "id": "DwUp1q66pEGX"
      }
    },
    {
      "cell_type": "code",
      "source": [
        "fold = KFold(n_splits=5)\n",
        "\n",
        "results = pd.DataFrame(index=[\n",
        "    'mse-train', 'mse-test', 'rmse-train', 'rmse-test', 'r2-train', 'r2-test'\n",
        "])\n",
        "\n",
        "splited_samples = fold.split(X=x_train, y=y_train)\n",
        "\n",
        "for fold_i, (train_i, test_i) in enumerate(splited_samples):\n",
        "    cur_x_train = x_train.iloc[train_i, :]\n",
        "    cur_x_test = x_train.iloc[test_i, :]\n",
        "    cur_y_train = y_train.iloc[train_i]\n",
        "    cur_y_test = y_train.iloc[test_i]\n",
        "\n",
        "    cur_w = fit_gd(cur_x_train, cur_y_train,\n",
        "                   alpha=optimal_alpha, prec=optimal_prec)\n",
        "\n",
        "    y_predf_train = linear_model(cur_x_train, cur_w)\n",
        "    y_predf_test = linear_model(cur_x_test, cur_w)\n",
        "\n",
        "    mse_train = mean_squared_error(cur_y_train, y_predf_train, squared=True)\n",
        "    mse_test = mean_squared_error(cur_y_test, y_predf_test, squared=True)\n",
        "\n",
        "    rmse_train = mean_squared_error(cur_y_train, y_predf_train, squared=False)\n",
        "    rmse_test = mean_squared_error(cur_y_test, y_predf_test, squared=False)\n",
        "\n",
        "    r2_train = r2_score(cur_y_train, y_predf_train)\n",
        "    r2_test = r2_score(cur_y_test, y_predf_test)\n",
        "\n",
        "    results.insert(loc=fold_i, column=f\"Fold{fold_i + 1}\", value=[\n",
        "        mse_train, mse_test, rmse_train, rmse_test, r2_train, r2_test\n",
        "    ])\n",
        "\n",
        "results[\"E\"] = results.mean(axis=1)\n",
        "results[\"STD\"] = results.std(axis=1)\n",
        "\n",
        "results"
      ],
      "metadata": {
        "colab": {
          "base_uri": "https://localhost:8080/",
          "height": 238
        },
        "id": "k_UM27SeXJ8N",
        "outputId": "b4cf5279-de74-43de-c214-901cc26cb966"
      },
      "execution_count": 26,
      "outputs": [
        {
          "output_type": "execute_result",
          "data": {
            "text/plain": [
              "                   Fold1         Fold2         Fold3         Fold4  \\\n",
              "mse-train   5.191875e+07  5.320051e+07  5.519373e+07  5.208679e+07   \n",
              "mse-test    5.862227e+07  5.336682e+07  4.546093e+07  5.830709e+07   \n",
              "rmse-train  7.205467e+03  7.293868e+03  7.429248e+03  7.217118e+03   \n",
              "rmse-test   7.656518e+03  7.305260e+03  6.742472e+03  7.635908e+03   \n",
              "r2-train    6.605768e-01  6.432161e-01  6.277867e-01  6.437573e-01   \n",
              "r2-test     5.540988e-01  6.373008e-01  6.977467e-01  6.322952e-01   \n",
              "\n",
              "                   Fold5             E           STD  \n",
              "mse-train   5.339122e+07  5.315820e+07  1.173338e+06  \n",
              "mse-test    5.280628e+07  5.371268e+07  4.780066e+06  \n",
              "rmse-train  7.306930e+03  7.290526e+03  8.018466e+01  \n",
              "rmse-test   7.266793e+03  7.321390e+03  3.315476e+02  \n",
              "r2-train    6.367715e-01  6.424217e-01  1.075295e-02  \n",
              "r2-test     6.607271e-01  6.364337e-01  4.721517e-02  "
            ],
            "text/html": [
              "\n",
              "  <div id=\"df-af1f366e-48dc-4065-bf81-ab902605ce4f\" class=\"colab-df-container\">\n",
              "    <div>\n",
              "<style scoped>\n",
              "    .dataframe tbody tr th:only-of-type {\n",
              "        vertical-align: middle;\n",
              "    }\n",
              "\n",
              "    .dataframe tbody tr th {\n",
              "        vertical-align: top;\n",
              "    }\n",
              "\n",
              "    .dataframe thead th {\n",
              "        text-align: right;\n",
              "    }\n",
              "</style>\n",
              "<table border=\"1\" class=\"dataframe\">\n",
              "  <thead>\n",
              "    <tr style=\"text-align: right;\">\n",
              "      <th></th>\n",
              "      <th>Fold1</th>\n",
              "      <th>Fold2</th>\n",
              "      <th>Fold3</th>\n",
              "      <th>Fold4</th>\n",
              "      <th>Fold5</th>\n",
              "      <th>E</th>\n",
              "      <th>STD</th>\n",
              "    </tr>\n",
              "  </thead>\n",
              "  <tbody>\n",
              "    <tr>\n",
              "      <th>mse-train</th>\n",
              "      <td>5.191875e+07</td>\n",
              "      <td>5.320051e+07</td>\n",
              "      <td>5.519373e+07</td>\n",
              "      <td>5.208679e+07</td>\n",
              "      <td>5.339122e+07</td>\n",
              "      <td>5.315820e+07</td>\n",
              "      <td>1.173338e+06</td>\n",
              "    </tr>\n",
              "    <tr>\n",
              "      <th>mse-test</th>\n",
              "      <td>5.862227e+07</td>\n",
              "      <td>5.336682e+07</td>\n",
              "      <td>4.546093e+07</td>\n",
              "      <td>5.830709e+07</td>\n",
              "      <td>5.280628e+07</td>\n",
              "      <td>5.371268e+07</td>\n",
              "      <td>4.780066e+06</td>\n",
              "    </tr>\n",
              "    <tr>\n",
              "      <th>rmse-train</th>\n",
              "      <td>7.205467e+03</td>\n",
              "      <td>7.293868e+03</td>\n",
              "      <td>7.429248e+03</td>\n",
              "      <td>7.217118e+03</td>\n",
              "      <td>7.306930e+03</td>\n",
              "      <td>7.290526e+03</td>\n",
              "      <td>8.018466e+01</td>\n",
              "    </tr>\n",
              "    <tr>\n",
              "      <th>rmse-test</th>\n",
              "      <td>7.656518e+03</td>\n",
              "      <td>7.305260e+03</td>\n",
              "      <td>6.742472e+03</td>\n",
              "      <td>7.635908e+03</td>\n",
              "      <td>7.266793e+03</td>\n",
              "      <td>7.321390e+03</td>\n",
              "      <td>3.315476e+02</td>\n",
              "    </tr>\n",
              "    <tr>\n",
              "      <th>r2-train</th>\n",
              "      <td>6.605768e-01</td>\n",
              "      <td>6.432161e-01</td>\n",
              "      <td>6.277867e-01</td>\n",
              "      <td>6.437573e-01</td>\n",
              "      <td>6.367715e-01</td>\n",
              "      <td>6.424217e-01</td>\n",
              "      <td>1.075295e-02</td>\n",
              "    </tr>\n",
              "    <tr>\n",
              "      <th>r2-test</th>\n",
              "      <td>5.540988e-01</td>\n",
              "      <td>6.373008e-01</td>\n",
              "      <td>6.977467e-01</td>\n",
              "      <td>6.322952e-01</td>\n",
              "      <td>6.607271e-01</td>\n",
              "      <td>6.364337e-01</td>\n",
              "      <td>4.721517e-02</td>\n",
              "    </tr>\n",
              "  </tbody>\n",
              "</table>\n",
              "</div>\n",
              "    <div class=\"colab-df-buttons\">\n",
              "\n",
              "  <div class=\"colab-df-container\">\n",
              "    <button class=\"colab-df-convert\" onclick=\"convertToInteractive('df-af1f366e-48dc-4065-bf81-ab902605ce4f')\"\n",
              "            title=\"Convert this dataframe to an interactive table.\"\n",
              "            style=\"display:none;\">\n",
              "\n",
              "  <svg xmlns=\"http://www.w3.org/2000/svg\" height=\"24px\" viewBox=\"0 -960 960 960\">\n",
              "    <path d=\"M120-120v-720h720v720H120Zm60-500h600v-160H180v160Zm220 220h160v-160H400v160Zm0 220h160v-160H400v160ZM180-400h160v-160H180v160Zm440 0h160v-160H620v160ZM180-180h160v-160H180v160Zm440 0h160v-160H620v160Z\"/>\n",
              "  </svg>\n",
              "    </button>\n",
              "\n",
              "  <style>\n",
              "    .colab-df-container {\n",
              "      display:flex;\n",
              "      gap: 12px;\n",
              "    }\n",
              "\n",
              "    .colab-df-convert {\n",
              "      background-color: #E8F0FE;\n",
              "      border: none;\n",
              "      border-radius: 50%;\n",
              "      cursor: pointer;\n",
              "      display: none;\n",
              "      fill: #1967D2;\n",
              "      height: 32px;\n",
              "      padding: 0 0 0 0;\n",
              "      width: 32px;\n",
              "    }\n",
              "\n",
              "    .colab-df-convert:hover {\n",
              "      background-color: #E2EBFA;\n",
              "      box-shadow: 0px 1px 2px rgba(60, 64, 67, 0.3), 0px 1px 3px 1px rgba(60, 64, 67, 0.15);\n",
              "      fill: #174EA6;\n",
              "    }\n",
              "\n",
              "    .colab-df-buttons div {\n",
              "      margin-bottom: 4px;\n",
              "    }\n",
              "\n",
              "    [theme=dark] .colab-df-convert {\n",
              "      background-color: #3B4455;\n",
              "      fill: #D2E3FC;\n",
              "    }\n",
              "\n",
              "    [theme=dark] .colab-df-convert:hover {\n",
              "      background-color: #434B5C;\n",
              "      box-shadow: 0px 1px 3px 1px rgba(0, 0, 0, 0.15);\n",
              "      filter: drop-shadow(0px 1px 2px rgba(0, 0, 0, 0.3));\n",
              "      fill: #FFFFFF;\n",
              "    }\n",
              "  </style>\n",
              "\n",
              "    <script>\n",
              "      const buttonEl =\n",
              "        document.querySelector('#df-af1f366e-48dc-4065-bf81-ab902605ce4f button.colab-df-convert');\n",
              "      buttonEl.style.display =\n",
              "        google.colab.kernel.accessAllowed ? 'block' : 'none';\n",
              "\n",
              "      async function convertToInteractive(key) {\n",
              "        const element = document.querySelector('#df-af1f366e-48dc-4065-bf81-ab902605ce4f');\n",
              "        const dataTable =\n",
              "          await google.colab.kernel.invokeFunction('convertToInteractive',\n",
              "                                                    [key], {});\n",
              "        if (!dataTable) return;\n",
              "\n",
              "        const docLinkHtml = 'Like what you see? Visit the ' +\n",
              "          '<a target=\"_blank\" href=https://colab.research.google.com/notebooks/data_table.ipynb>data table notebook</a>'\n",
              "          + ' to learn more about interactive tables.';\n",
              "        element.innerHTML = '';\n",
              "        dataTable['output_type'] = 'display_data';\n",
              "        await google.colab.output.renderOutput(dataTable, element);\n",
              "        const docLink = document.createElement('div');\n",
              "        docLink.innerHTML = docLinkHtml;\n",
              "        element.appendChild(docLink);\n",
              "      }\n",
              "    </script>\n",
              "  </div>\n",
              "\n",
              "\n",
              "<div id=\"df-055f4a9c-0699-40de-a0e9-c9edd219737f\">\n",
              "  <button class=\"colab-df-quickchart\" onclick=\"quickchart('df-055f4a9c-0699-40de-a0e9-c9edd219737f')\"\n",
              "            title=\"Suggest charts.\"\n",
              "            style=\"display:none;\">\n",
              "\n",
              "<svg xmlns=\"http://www.w3.org/2000/svg\" height=\"24px\"viewBox=\"0 0 24 24\"\n",
              "     width=\"24px\">\n",
              "    <g>\n",
              "        <path d=\"M19 3H5c-1.1 0-2 .9-2 2v14c0 1.1.9 2 2 2h14c1.1 0 2-.9 2-2V5c0-1.1-.9-2-2-2zM9 17H7v-7h2v7zm4 0h-2V7h2v10zm4 0h-2v-4h2v4z\"/>\n",
              "    </g>\n",
              "</svg>\n",
              "  </button>\n",
              "\n",
              "<style>\n",
              "  .colab-df-quickchart {\n",
              "      --bg-color: #E8F0FE;\n",
              "      --fill-color: #1967D2;\n",
              "      --hover-bg-color: #E2EBFA;\n",
              "      --hover-fill-color: #174EA6;\n",
              "      --disabled-fill-color: #AAA;\n",
              "      --disabled-bg-color: #DDD;\n",
              "  }\n",
              "\n",
              "  [theme=dark] .colab-df-quickchart {\n",
              "      --bg-color: #3B4455;\n",
              "      --fill-color: #D2E3FC;\n",
              "      --hover-bg-color: #434B5C;\n",
              "      --hover-fill-color: #FFFFFF;\n",
              "      --disabled-bg-color: #3B4455;\n",
              "      --disabled-fill-color: #666;\n",
              "  }\n",
              "\n",
              "  .colab-df-quickchart {\n",
              "    background-color: var(--bg-color);\n",
              "    border: none;\n",
              "    border-radius: 50%;\n",
              "    cursor: pointer;\n",
              "    display: none;\n",
              "    fill: var(--fill-color);\n",
              "    height: 32px;\n",
              "    padding: 0;\n",
              "    width: 32px;\n",
              "  }\n",
              "\n",
              "  .colab-df-quickchart:hover {\n",
              "    background-color: var(--hover-bg-color);\n",
              "    box-shadow: 0 1px 2px rgba(60, 64, 67, 0.3), 0 1px 3px 1px rgba(60, 64, 67, 0.15);\n",
              "    fill: var(--button-hover-fill-color);\n",
              "  }\n",
              "\n",
              "  .colab-df-quickchart-complete:disabled,\n",
              "  .colab-df-quickchart-complete:disabled:hover {\n",
              "    background-color: var(--disabled-bg-color);\n",
              "    fill: var(--disabled-fill-color);\n",
              "    box-shadow: none;\n",
              "  }\n",
              "\n",
              "  .colab-df-spinner {\n",
              "    border: 2px solid var(--fill-color);\n",
              "    border-color: transparent;\n",
              "    border-bottom-color: var(--fill-color);\n",
              "    animation:\n",
              "      spin 1s steps(1) infinite;\n",
              "  }\n",
              "\n",
              "  @keyframes spin {\n",
              "    0% {\n",
              "      border-color: transparent;\n",
              "      border-bottom-color: var(--fill-color);\n",
              "      border-left-color: var(--fill-color);\n",
              "    }\n",
              "    20% {\n",
              "      border-color: transparent;\n",
              "      border-left-color: var(--fill-color);\n",
              "      border-top-color: var(--fill-color);\n",
              "    }\n",
              "    30% {\n",
              "      border-color: transparent;\n",
              "      border-left-color: var(--fill-color);\n",
              "      border-top-color: var(--fill-color);\n",
              "      border-right-color: var(--fill-color);\n",
              "    }\n",
              "    40% {\n",
              "      border-color: transparent;\n",
              "      border-right-color: var(--fill-color);\n",
              "      border-top-color: var(--fill-color);\n",
              "    }\n",
              "    60% {\n",
              "      border-color: transparent;\n",
              "      border-right-color: var(--fill-color);\n",
              "    }\n",
              "    80% {\n",
              "      border-color: transparent;\n",
              "      border-right-color: var(--fill-color);\n",
              "      border-bottom-color: var(--fill-color);\n",
              "    }\n",
              "    90% {\n",
              "      border-color: transparent;\n",
              "      border-bottom-color: var(--fill-color);\n",
              "    }\n",
              "  }\n",
              "</style>\n",
              "\n",
              "  <script>\n",
              "    async function quickchart(key) {\n",
              "      const quickchartButtonEl =\n",
              "        document.querySelector('#' + key + ' button');\n",
              "      quickchartButtonEl.disabled = true;  // To prevent multiple clicks.\n",
              "      quickchartButtonEl.classList.add('colab-df-spinner');\n",
              "      try {\n",
              "        const charts = await google.colab.kernel.invokeFunction(\n",
              "            'suggestCharts', [key], {});\n",
              "      } catch (error) {\n",
              "        console.error('Error during call to suggestCharts:', error);\n",
              "      }\n",
              "      quickchartButtonEl.classList.remove('colab-df-spinner');\n",
              "      quickchartButtonEl.classList.add('colab-df-quickchart-complete');\n",
              "    }\n",
              "    (() => {\n",
              "      let quickchartButtonEl =\n",
              "        document.querySelector('#df-055f4a9c-0699-40de-a0e9-c9edd219737f button');\n",
              "      quickchartButtonEl.style.display =\n",
              "        google.colab.kernel.accessAllowed ? 'block' : 'none';\n",
              "    })();\n",
              "  </script>\n",
              "</div>\n",
              "    </div>\n",
              "  </div>\n"
            ]
          },
          "metadata": {},
          "execution_count": 26
        }
      ]
    },
    {
      "cell_type": "markdown",
      "source": [
        "### Мини-пакетный градиентный спуск"
      ],
      "metadata": {
        "id": "o0gJV1chpLRW"
      }
    },
    {
      "cell_type": "code",
      "source": [
        "fold = KFold(n_splits=5)\n",
        "\n",
        "results = pd.DataFrame(index=[\n",
        "    'mse-train', 'mse-test', 'rmse-train', 'rmse-test', 'r2-train', 'r2-test'\n",
        "])\n",
        "\n",
        "splited_samples = fold.split(X=x_train, y=y_train)\n",
        "\n",
        "for fold_i, (train_i, test_i) in enumerate(splited_samples):\n",
        "    cur_x_train = x_train.iloc[train_i, :]\n",
        "    cur_x_test = x_train.iloc[test_i, :]\n",
        "    cur_y_train = y_train.iloc[train_i]\n",
        "    cur_y_test = y_train.iloc[test_i]\n",
        "\n",
        "    cur_w, cur_cost = fit_mbgd(cur_x_train.to_numpy(), cur_y_train.to_numpy(),\n",
        "                               alpha=optimal_alpha, prec=optimal_prec)\n",
        "\n",
        "    y_predf_train = np.dot(cur_x_train, cur_w) + cur_cost\n",
        "    y_predf_test = np.dot(cur_x_test, cur_w) + cur_cost\n",
        "\n",
        "    mse_train = mean_squared_error(cur_y_train, y_predf_train, squared=True)\n",
        "    mse_test = mean_squared_error(cur_y_test, y_predf_test, squared=True)\n",
        "\n",
        "    rmse_train = mean_squared_error(cur_y_train, y_predf_train, squared=False)\n",
        "    rmse_test = mean_squared_error(cur_y_test, y_predf_test, squared=False)\n",
        "\n",
        "    r2_train = r2_score(cur_y_train, y_predf_train)\n",
        "    r2_test = r2_score(cur_y_test, y_predf_test)\n",
        "\n",
        "    results.insert(loc=fold_i, column=f\"Fold{fold_i + 1}\", value=[\n",
        "        mse_train, mse_test, rmse_train, rmse_test, r2_train, r2_test\n",
        "    ])\n",
        "\n",
        "results[\"E\"] = results.mean(axis=1)\n",
        "results[\"STD\"] = results.std(axis=1)\n",
        "\n",
        "results"
      ],
      "metadata": {
        "colab": {
          "base_uri": "https://localhost:8080/",
          "height": 238
        },
        "id": "-rFXdjOjZGXy",
        "outputId": "57e284fb-1ef6-4778-97dc-d1cd83f5155c"
      },
      "execution_count": 27,
      "outputs": [
        {
          "output_type": "execute_result",
          "data": {
            "text/plain": [
              "                   Fold1         Fold2         Fold3         Fold4  \\\n",
              "mse-train   5.492076e+07  5.770457e+07  5.567155e+07  5.270133e+07   \n",
              "mse-test    6.013385e+07  5.785583e+07  4.552504e+07  5.920725e+07   \n",
              "rmse-train  7.410854e+03  7.596353e+03  7.461337e+03  7.259568e+03   \n",
              "rmse-test   7.754602e+03  7.606302e+03  6.747225e+03  7.694625e+03   \n",
              "r2-train    6.409509e-01  6.130101e-01  6.245644e-01  6.395542e-01   \n",
              "r2-test     5.426012e-01  6.067920e-01  6.973204e-01  6.266184e-01   \n",
              "\n",
              "                   Fold5             E           STD  \n",
              "mse-train   5.633909e+07  5.546746e+07  1.658701e+06  \n",
              "mse-test    5.839037e+07  5.622247e+07  5.403895e+06  \n",
              "rmse-train  7.505937e+03  7.446810e+03  1.117340e+02  \n",
              "rmse-test   7.641359e+03  7.488823e+03  3.741736e+02  \n",
              "r2-train    6.167167e-01  6.269593e-01  1.148586e-02  \n",
              "r2-test     6.248501e-01  6.196364e-01  4.941689e-02  "
            ],
            "text/html": [
              "\n",
              "  <div id=\"df-4e6b5b5f-2eab-43fe-a4f0-0eb4716bf641\" class=\"colab-df-container\">\n",
              "    <div>\n",
              "<style scoped>\n",
              "    .dataframe tbody tr th:only-of-type {\n",
              "        vertical-align: middle;\n",
              "    }\n",
              "\n",
              "    .dataframe tbody tr th {\n",
              "        vertical-align: top;\n",
              "    }\n",
              "\n",
              "    .dataframe thead th {\n",
              "        text-align: right;\n",
              "    }\n",
              "</style>\n",
              "<table border=\"1\" class=\"dataframe\">\n",
              "  <thead>\n",
              "    <tr style=\"text-align: right;\">\n",
              "      <th></th>\n",
              "      <th>Fold1</th>\n",
              "      <th>Fold2</th>\n",
              "      <th>Fold3</th>\n",
              "      <th>Fold4</th>\n",
              "      <th>Fold5</th>\n",
              "      <th>E</th>\n",
              "      <th>STD</th>\n",
              "    </tr>\n",
              "  </thead>\n",
              "  <tbody>\n",
              "    <tr>\n",
              "      <th>mse-train</th>\n",
              "      <td>5.492076e+07</td>\n",
              "      <td>5.770457e+07</td>\n",
              "      <td>5.567155e+07</td>\n",
              "      <td>5.270133e+07</td>\n",
              "      <td>5.633909e+07</td>\n",
              "      <td>5.546746e+07</td>\n",
              "      <td>1.658701e+06</td>\n",
              "    </tr>\n",
              "    <tr>\n",
              "      <th>mse-test</th>\n",
              "      <td>6.013385e+07</td>\n",
              "      <td>5.785583e+07</td>\n",
              "      <td>4.552504e+07</td>\n",
              "      <td>5.920725e+07</td>\n",
              "      <td>5.839037e+07</td>\n",
              "      <td>5.622247e+07</td>\n",
              "      <td>5.403895e+06</td>\n",
              "    </tr>\n",
              "    <tr>\n",
              "      <th>rmse-train</th>\n",
              "      <td>7.410854e+03</td>\n",
              "      <td>7.596353e+03</td>\n",
              "      <td>7.461337e+03</td>\n",
              "      <td>7.259568e+03</td>\n",
              "      <td>7.505937e+03</td>\n",
              "      <td>7.446810e+03</td>\n",
              "      <td>1.117340e+02</td>\n",
              "    </tr>\n",
              "    <tr>\n",
              "      <th>rmse-test</th>\n",
              "      <td>7.754602e+03</td>\n",
              "      <td>7.606302e+03</td>\n",
              "      <td>6.747225e+03</td>\n",
              "      <td>7.694625e+03</td>\n",
              "      <td>7.641359e+03</td>\n",
              "      <td>7.488823e+03</td>\n",
              "      <td>3.741736e+02</td>\n",
              "    </tr>\n",
              "    <tr>\n",
              "      <th>r2-train</th>\n",
              "      <td>6.409509e-01</td>\n",
              "      <td>6.130101e-01</td>\n",
              "      <td>6.245644e-01</td>\n",
              "      <td>6.395542e-01</td>\n",
              "      <td>6.167167e-01</td>\n",
              "      <td>6.269593e-01</td>\n",
              "      <td>1.148586e-02</td>\n",
              "    </tr>\n",
              "    <tr>\n",
              "      <th>r2-test</th>\n",
              "      <td>5.426012e-01</td>\n",
              "      <td>6.067920e-01</td>\n",
              "      <td>6.973204e-01</td>\n",
              "      <td>6.266184e-01</td>\n",
              "      <td>6.248501e-01</td>\n",
              "      <td>6.196364e-01</td>\n",
              "      <td>4.941689e-02</td>\n",
              "    </tr>\n",
              "  </tbody>\n",
              "</table>\n",
              "</div>\n",
              "    <div class=\"colab-df-buttons\">\n",
              "\n",
              "  <div class=\"colab-df-container\">\n",
              "    <button class=\"colab-df-convert\" onclick=\"convertToInteractive('df-4e6b5b5f-2eab-43fe-a4f0-0eb4716bf641')\"\n",
              "            title=\"Convert this dataframe to an interactive table.\"\n",
              "            style=\"display:none;\">\n",
              "\n",
              "  <svg xmlns=\"http://www.w3.org/2000/svg\" height=\"24px\" viewBox=\"0 -960 960 960\">\n",
              "    <path d=\"M120-120v-720h720v720H120Zm60-500h600v-160H180v160Zm220 220h160v-160H400v160Zm0 220h160v-160H400v160ZM180-400h160v-160H180v160Zm440 0h160v-160H620v160ZM180-180h160v-160H180v160Zm440 0h160v-160H620v160Z\"/>\n",
              "  </svg>\n",
              "    </button>\n",
              "\n",
              "  <style>\n",
              "    .colab-df-container {\n",
              "      display:flex;\n",
              "      gap: 12px;\n",
              "    }\n",
              "\n",
              "    .colab-df-convert {\n",
              "      background-color: #E8F0FE;\n",
              "      border: none;\n",
              "      border-radius: 50%;\n",
              "      cursor: pointer;\n",
              "      display: none;\n",
              "      fill: #1967D2;\n",
              "      height: 32px;\n",
              "      padding: 0 0 0 0;\n",
              "      width: 32px;\n",
              "    }\n",
              "\n",
              "    .colab-df-convert:hover {\n",
              "      background-color: #E2EBFA;\n",
              "      box-shadow: 0px 1px 2px rgba(60, 64, 67, 0.3), 0px 1px 3px 1px rgba(60, 64, 67, 0.15);\n",
              "      fill: #174EA6;\n",
              "    }\n",
              "\n",
              "    .colab-df-buttons div {\n",
              "      margin-bottom: 4px;\n",
              "    }\n",
              "\n",
              "    [theme=dark] .colab-df-convert {\n",
              "      background-color: #3B4455;\n",
              "      fill: #D2E3FC;\n",
              "    }\n",
              "\n",
              "    [theme=dark] .colab-df-convert:hover {\n",
              "      background-color: #434B5C;\n",
              "      box-shadow: 0px 1px 3px 1px rgba(0, 0, 0, 0.15);\n",
              "      filter: drop-shadow(0px 1px 2px rgba(0, 0, 0, 0.3));\n",
              "      fill: #FFFFFF;\n",
              "    }\n",
              "  </style>\n",
              "\n",
              "    <script>\n",
              "      const buttonEl =\n",
              "        document.querySelector('#df-4e6b5b5f-2eab-43fe-a4f0-0eb4716bf641 button.colab-df-convert');\n",
              "      buttonEl.style.display =\n",
              "        google.colab.kernel.accessAllowed ? 'block' : 'none';\n",
              "\n",
              "      async function convertToInteractive(key) {\n",
              "        const element = document.querySelector('#df-4e6b5b5f-2eab-43fe-a4f0-0eb4716bf641');\n",
              "        const dataTable =\n",
              "          await google.colab.kernel.invokeFunction('convertToInteractive',\n",
              "                                                    [key], {});\n",
              "        if (!dataTable) return;\n",
              "\n",
              "        const docLinkHtml = 'Like what you see? Visit the ' +\n",
              "          '<a target=\"_blank\" href=https://colab.research.google.com/notebooks/data_table.ipynb>data table notebook</a>'\n",
              "          + ' to learn more about interactive tables.';\n",
              "        element.innerHTML = '';\n",
              "        dataTable['output_type'] = 'display_data';\n",
              "        await google.colab.output.renderOutput(dataTable, element);\n",
              "        const docLink = document.createElement('div');\n",
              "        docLink.innerHTML = docLinkHtml;\n",
              "        element.appendChild(docLink);\n",
              "      }\n",
              "    </script>\n",
              "  </div>\n",
              "\n",
              "\n",
              "<div id=\"df-a21ba0d6-d167-43f9-8362-96803f40614c\">\n",
              "  <button class=\"colab-df-quickchart\" onclick=\"quickchart('df-a21ba0d6-d167-43f9-8362-96803f40614c')\"\n",
              "            title=\"Suggest charts.\"\n",
              "            style=\"display:none;\">\n",
              "\n",
              "<svg xmlns=\"http://www.w3.org/2000/svg\" height=\"24px\"viewBox=\"0 0 24 24\"\n",
              "     width=\"24px\">\n",
              "    <g>\n",
              "        <path d=\"M19 3H5c-1.1 0-2 .9-2 2v14c0 1.1.9 2 2 2h14c1.1 0 2-.9 2-2V5c0-1.1-.9-2-2-2zM9 17H7v-7h2v7zm4 0h-2V7h2v10zm4 0h-2v-4h2v4z\"/>\n",
              "    </g>\n",
              "</svg>\n",
              "  </button>\n",
              "\n",
              "<style>\n",
              "  .colab-df-quickchart {\n",
              "      --bg-color: #E8F0FE;\n",
              "      --fill-color: #1967D2;\n",
              "      --hover-bg-color: #E2EBFA;\n",
              "      --hover-fill-color: #174EA6;\n",
              "      --disabled-fill-color: #AAA;\n",
              "      --disabled-bg-color: #DDD;\n",
              "  }\n",
              "\n",
              "  [theme=dark] .colab-df-quickchart {\n",
              "      --bg-color: #3B4455;\n",
              "      --fill-color: #D2E3FC;\n",
              "      --hover-bg-color: #434B5C;\n",
              "      --hover-fill-color: #FFFFFF;\n",
              "      --disabled-bg-color: #3B4455;\n",
              "      --disabled-fill-color: #666;\n",
              "  }\n",
              "\n",
              "  .colab-df-quickchart {\n",
              "    background-color: var(--bg-color);\n",
              "    border: none;\n",
              "    border-radius: 50%;\n",
              "    cursor: pointer;\n",
              "    display: none;\n",
              "    fill: var(--fill-color);\n",
              "    height: 32px;\n",
              "    padding: 0;\n",
              "    width: 32px;\n",
              "  }\n",
              "\n",
              "  .colab-df-quickchart:hover {\n",
              "    background-color: var(--hover-bg-color);\n",
              "    box-shadow: 0 1px 2px rgba(60, 64, 67, 0.3), 0 1px 3px 1px rgba(60, 64, 67, 0.15);\n",
              "    fill: var(--button-hover-fill-color);\n",
              "  }\n",
              "\n",
              "  .colab-df-quickchart-complete:disabled,\n",
              "  .colab-df-quickchart-complete:disabled:hover {\n",
              "    background-color: var(--disabled-bg-color);\n",
              "    fill: var(--disabled-fill-color);\n",
              "    box-shadow: none;\n",
              "  }\n",
              "\n",
              "  .colab-df-spinner {\n",
              "    border: 2px solid var(--fill-color);\n",
              "    border-color: transparent;\n",
              "    border-bottom-color: var(--fill-color);\n",
              "    animation:\n",
              "      spin 1s steps(1) infinite;\n",
              "  }\n",
              "\n",
              "  @keyframes spin {\n",
              "    0% {\n",
              "      border-color: transparent;\n",
              "      border-bottom-color: var(--fill-color);\n",
              "      border-left-color: var(--fill-color);\n",
              "    }\n",
              "    20% {\n",
              "      border-color: transparent;\n",
              "      border-left-color: var(--fill-color);\n",
              "      border-top-color: var(--fill-color);\n",
              "    }\n",
              "    30% {\n",
              "      border-color: transparent;\n",
              "      border-left-color: var(--fill-color);\n",
              "      border-top-color: var(--fill-color);\n",
              "      border-right-color: var(--fill-color);\n",
              "    }\n",
              "    40% {\n",
              "      border-color: transparent;\n",
              "      border-right-color: var(--fill-color);\n",
              "      border-top-color: var(--fill-color);\n",
              "    }\n",
              "    60% {\n",
              "      border-color: transparent;\n",
              "      border-right-color: var(--fill-color);\n",
              "    }\n",
              "    80% {\n",
              "      border-color: transparent;\n",
              "      border-right-color: var(--fill-color);\n",
              "      border-bottom-color: var(--fill-color);\n",
              "    }\n",
              "    90% {\n",
              "      border-color: transparent;\n",
              "      border-bottom-color: var(--fill-color);\n",
              "    }\n",
              "  }\n",
              "</style>\n",
              "\n",
              "  <script>\n",
              "    async function quickchart(key) {\n",
              "      const quickchartButtonEl =\n",
              "        document.querySelector('#' + key + ' button');\n",
              "      quickchartButtonEl.disabled = true;  // To prevent multiple clicks.\n",
              "      quickchartButtonEl.classList.add('colab-df-spinner');\n",
              "      try {\n",
              "        const charts = await google.colab.kernel.invokeFunction(\n",
              "            'suggestCharts', [key], {});\n",
              "      } catch (error) {\n",
              "        console.error('Error during call to suggestCharts:', error);\n",
              "      }\n",
              "      quickchartButtonEl.classList.remove('colab-df-spinner');\n",
              "      quickchartButtonEl.classList.add('colab-df-quickchart-complete');\n",
              "    }\n",
              "    (() => {\n",
              "      let quickchartButtonEl =\n",
              "        document.querySelector('#df-a21ba0d6-d167-43f9-8362-96803f40614c button');\n",
              "      quickchartButtonEl.style.display =\n",
              "        google.colab.kernel.accessAllowed ? 'block' : 'none';\n",
              "    })();\n",
              "  </script>\n",
              "</div>\n",
              "    </div>\n",
              "  </div>\n"
            ]
          },
          "metadata": {},
          "execution_count": 27
        }
      ]
    },
    {
      "cell_type": "markdown",
      "source": [
        "### Библиотечный Ridge"
      ],
      "metadata": {
        "id": "mIK7s5r4pOl6"
      }
    },
    {
      "cell_type": "code",
      "source": [
        "model = Ridge(alpha=optimal_alpha, tol=optimal_prec)\n",
        "results = pd.DataFrame(index=[\n",
        "    'mse_train', 'mse_test', 'rmse_train',  'rmse_test', 'r2_train', 'r2_test'\n",
        "])\n",
        "\n",
        "mse_train = cross_val_score(model, x_train, y_train, cv=5, scoring=\"neg_mean_squared_error\")\n",
        "mse_test = cross_val_score(model, x_test, y_test, cv=5, scoring=\"neg_mean_squared_error\")\n",
        "rmse_train = cross_val_score(model, x_train, y_train, cv=5, scoring=\"neg_root_mean_squared_error\")\n",
        "rmse_test = cross_val_score(model, x_test, y_test, cv=5, scoring=\"neg_root_mean_squared_error\")\n",
        "r2_train = cross_val_score(model, x_train, y_train, cv=5, scoring=\"r2\")\n",
        "r2_test = cross_val_score(model, x_test, y_test, cv=5, scoring=\"r2\")\n",
        "\n",
        "for fold_i in range(5):\n",
        "    results.insert(loc=fold_i, column=f\"Fold{fold_i + 1}\", value=[\n",
        "        -mse_train[fold_i], -mse_test[fold_i], -rmse_train[fold_i], -rmse_test[fold_i], r2_train[fold_i], r2_test[fold_i]\n",
        "    ])\n",
        "\n",
        "results[\"E\"] = results.mean(axis=1)\n",
        "results[\"STD\"] = results.std(axis=1)\n",
        "\n",
        "results"
      ],
      "metadata": {
        "colab": {
          "base_uri": "https://localhost:8080/",
          "height": 238
        },
        "id": "tJ7edG1FZfog",
        "outputId": "0055f98d-e164-4190-8c15-9e3f31f20fb3"
      },
      "execution_count": 28,
      "outputs": [
        {
          "output_type": "execute_result",
          "data": {
            "text/plain": [
              "                   Fold1         Fold2         Fold3         Fold4  \\\n",
              "mse_train   5.866810e+07  5.341225e+07  4.547578e+07  5.823543e+07   \n",
              "mse_test    3.638029e+07  3.604046e+07  4.191313e+07  3.386721e+07   \n",
              "rmse_train  7.659511e+03  7.308368e+03  6.743573e+03  7.631214e+03   \n",
              "rmse_test   6.031608e+03  6.003371e+03  6.474035e+03  5.819554e+03   \n",
              "r2_train    5.537502e-01  6.369921e-01  6.976479e-01  6.327471e-01   \n",
              "r2_test     7.355554e-01  7.420602e-01  6.983824e-01  7.516132e-01   \n",
              "\n",
              "                   Fold5             E           STD  \n",
              "mse_train   5.276695e+07  5.371170e+07  4.771638e+06  \n",
              "mse_test    4.786625e+07  3.921347e+07  5.076144e+06  \n",
              "rmse_train  7.264087e+03  7.321351e+03  3.309507e+02  \n",
              "rmse_test   6.918544e+03  6.249422e+03  3.977301e+02  \n",
              "r2_train    6.609798e-01  6.364234e-01  4.732897e-02  \n",
              "r2_test     6.697570e-01  7.194736e-01  3.071909e-02  "
            ],
            "text/html": [
              "\n",
              "  <div id=\"df-8e3a7c56-24e4-4cd0-8a1b-eb9d5c33eff1\" class=\"colab-df-container\">\n",
              "    <div>\n",
              "<style scoped>\n",
              "    .dataframe tbody tr th:only-of-type {\n",
              "        vertical-align: middle;\n",
              "    }\n",
              "\n",
              "    .dataframe tbody tr th {\n",
              "        vertical-align: top;\n",
              "    }\n",
              "\n",
              "    .dataframe thead th {\n",
              "        text-align: right;\n",
              "    }\n",
              "</style>\n",
              "<table border=\"1\" class=\"dataframe\">\n",
              "  <thead>\n",
              "    <tr style=\"text-align: right;\">\n",
              "      <th></th>\n",
              "      <th>Fold1</th>\n",
              "      <th>Fold2</th>\n",
              "      <th>Fold3</th>\n",
              "      <th>Fold4</th>\n",
              "      <th>Fold5</th>\n",
              "      <th>E</th>\n",
              "      <th>STD</th>\n",
              "    </tr>\n",
              "  </thead>\n",
              "  <tbody>\n",
              "    <tr>\n",
              "      <th>mse_train</th>\n",
              "      <td>5.866810e+07</td>\n",
              "      <td>5.341225e+07</td>\n",
              "      <td>4.547578e+07</td>\n",
              "      <td>5.823543e+07</td>\n",
              "      <td>5.276695e+07</td>\n",
              "      <td>5.371170e+07</td>\n",
              "      <td>4.771638e+06</td>\n",
              "    </tr>\n",
              "    <tr>\n",
              "      <th>mse_test</th>\n",
              "      <td>3.638029e+07</td>\n",
              "      <td>3.604046e+07</td>\n",
              "      <td>4.191313e+07</td>\n",
              "      <td>3.386721e+07</td>\n",
              "      <td>4.786625e+07</td>\n",
              "      <td>3.921347e+07</td>\n",
              "      <td>5.076144e+06</td>\n",
              "    </tr>\n",
              "    <tr>\n",
              "      <th>rmse_train</th>\n",
              "      <td>7.659511e+03</td>\n",
              "      <td>7.308368e+03</td>\n",
              "      <td>6.743573e+03</td>\n",
              "      <td>7.631214e+03</td>\n",
              "      <td>7.264087e+03</td>\n",
              "      <td>7.321351e+03</td>\n",
              "      <td>3.309507e+02</td>\n",
              "    </tr>\n",
              "    <tr>\n",
              "      <th>rmse_test</th>\n",
              "      <td>6.031608e+03</td>\n",
              "      <td>6.003371e+03</td>\n",
              "      <td>6.474035e+03</td>\n",
              "      <td>5.819554e+03</td>\n",
              "      <td>6.918544e+03</td>\n",
              "      <td>6.249422e+03</td>\n",
              "      <td>3.977301e+02</td>\n",
              "    </tr>\n",
              "    <tr>\n",
              "      <th>r2_train</th>\n",
              "      <td>5.537502e-01</td>\n",
              "      <td>6.369921e-01</td>\n",
              "      <td>6.976479e-01</td>\n",
              "      <td>6.327471e-01</td>\n",
              "      <td>6.609798e-01</td>\n",
              "      <td>6.364234e-01</td>\n",
              "      <td>4.732897e-02</td>\n",
              "    </tr>\n",
              "    <tr>\n",
              "      <th>r2_test</th>\n",
              "      <td>7.355554e-01</td>\n",
              "      <td>7.420602e-01</td>\n",
              "      <td>6.983824e-01</td>\n",
              "      <td>7.516132e-01</td>\n",
              "      <td>6.697570e-01</td>\n",
              "      <td>7.194736e-01</td>\n",
              "      <td>3.071909e-02</td>\n",
              "    </tr>\n",
              "  </tbody>\n",
              "</table>\n",
              "</div>\n",
              "    <div class=\"colab-df-buttons\">\n",
              "\n",
              "  <div class=\"colab-df-container\">\n",
              "    <button class=\"colab-df-convert\" onclick=\"convertToInteractive('df-8e3a7c56-24e4-4cd0-8a1b-eb9d5c33eff1')\"\n",
              "            title=\"Convert this dataframe to an interactive table.\"\n",
              "            style=\"display:none;\">\n",
              "\n",
              "  <svg xmlns=\"http://www.w3.org/2000/svg\" height=\"24px\" viewBox=\"0 -960 960 960\">\n",
              "    <path d=\"M120-120v-720h720v720H120Zm60-500h600v-160H180v160Zm220 220h160v-160H400v160Zm0 220h160v-160H400v160ZM180-400h160v-160H180v160Zm440 0h160v-160H620v160ZM180-180h160v-160H180v160Zm440 0h160v-160H620v160Z\"/>\n",
              "  </svg>\n",
              "    </button>\n",
              "\n",
              "  <style>\n",
              "    .colab-df-container {\n",
              "      display:flex;\n",
              "      gap: 12px;\n",
              "    }\n",
              "\n",
              "    .colab-df-convert {\n",
              "      background-color: #E8F0FE;\n",
              "      border: none;\n",
              "      border-radius: 50%;\n",
              "      cursor: pointer;\n",
              "      display: none;\n",
              "      fill: #1967D2;\n",
              "      height: 32px;\n",
              "      padding: 0 0 0 0;\n",
              "      width: 32px;\n",
              "    }\n",
              "\n",
              "    .colab-df-convert:hover {\n",
              "      background-color: #E2EBFA;\n",
              "      box-shadow: 0px 1px 2px rgba(60, 64, 67, 0.3), 0px 1px 3px 1px rgba(60, 64, 67, 0.15);\n",
              "      fill: #174EA6;\n",
              "    }\n",
              "\n",
              "    .colab-df-buttons div {\n",
              "      margin-bottom: 4px;\n",
              "    }\n",
              "\n",
              "    [theme=dark] .colab-df-convert {\n",
              "      background-color: #3B4455;\n",
              "      fill: #D2E3FC;\n",
              "    }\n",
              "\n",
              "    [theme=dark] .colab-df-convert:hover {\n",
              "      background-color: #434B5C;\n",
              "      box-shadow: 0px 1px 3px 1px rgba(0, 0, 0, 0.15);\n",
              "      filter: drop-shadow(0px 1px 2px rgba(0, 0, 0, 0.3));\n",
              "      fill: #FFFFFF;\n",
              "    }\n",
              "  </style>\n",
              "\n",
              "    <script>\n",
              "      const buttonEl =\n",
              "        document.querySelector('#df-8e3a7c56-24e4-4cd0-8a1b-eb9d5c33eff1 button.colab-df-convert');\n",
              "      buttonEl.style.display =\n",
              "        google.colab.kernel.accessAllowed ? 'block' : 'none';\n",
              "\n",
              "      async function convertToInteractive(key) {\n",
              "        const element = document.querySelector('#df-8e3a7c56-24e4-4cd0-8a1b-eb9d5c33eff1');\n",
              "        const dataTable =\n",
              "          await google.colab.kernel.invokeFunction('convertToInteractive',\n",
              "                                                    [key], {});\n",
              "        if (!dataTable) return;\n",
              "\n",
              "        const docLinkHtml = 'Like what you see? Visit the ' +\n",
              "          '<a target=\"_blank\" href=https://colab.research.google.com/notebooks/data_table.ipynb>data table notebook</a>'\n",
              "          + ' to learn more about interactive tables.';\n",
              "        element.innerHTML = '';\n",
              "        dataTable['output_type'] = 'display_data';\n",
              "        await google.colab.output.renderOutput(dataTable, element);\n",
              "        const docLink = document.createElement('div');\n",
              "        docLink.innerHTML = docLinkHtml;\n",
              "        element.appendChild(docLink);\n",
              "      }\n",
              "    </script>\n",
              "  </div>\n",
              "\n",
              "\n",
              "<div id=\"df-3ec0cd3b-2bba-4c53-97ec-68b3009c712f\">\n",
              "  <button class=\"colab-df-quickchart\" onclick=\"quickchart('df-3ec0cd3b-2bba-4c53-97ec-68b3009c712f')\"\n",
              "            title=\"Suggest charts.\"\n",
              "            style=\"display:none;\">\n",
              "\n",
              "<svg xmlns=\"http://www.w3.org/2000/svg\" height=\"24px\"viewBox=\"0 0 24 24\"\n",
              "     width=\"24px\">\n",
              "    <g>\n",
              "        <path d=\"M19 3H5c-1.1 0-2 .9-2 2v14c0 1.1.9 2 2 2h14c1.1 0 2-.9 2-2V5c0-1.1-.9-2-2-2zM9 17H7v-7h2v7zm4 0h-2V7h2v10zm4 0h-2v-4h2v4z\"/>\n",
              "    </g>\n",
              "</svg>\n",
              "  </button>\n",
              "\n",
              "<style>\n",
              "  .colab-df-quickchart {\n",
              "      --bg-color: #E8F0FE;\n",
              "      --fill-color: #1967D2;\n",
              "      --hover-bg-color: #E2EBFA;\n",
              "      --hover-fill-color: #174EA6;\n",
              "      --disabled-fill-color: #AAA;\n",
              "      --disabled-bg-color: #DDD;\n",
              "  }\n",
              "\n",
              "  [theme=dark] .colab-df-quickchart {\n",
              "      --bg-color: #3B4455;\n",
              "      --fill-color: #D2E3FC;\n",
              "      --hover-bg-color: #434B5C;\n",
              "      --hover-fill-color: #FFFFFF;\n",
              "      --disabled-bg-color: #3B4455;\n",
              "      --disabled-fill-color: #666;\n",
              "  }\n",
              "\n",
              "  .colab-df-quickchart {\n",
              "    background-color: var(--bg-color);\n",
              "    border: none;\n",
              "    border-radius: 50%;\n",
              "    cursor: pointer;\n",
              "    display: none;\n",
              "    fill: var(--fill-color);\n",
              "    height: 32px;\n",
              "    padding: 0;\n",
              "    width: 32px;\n",
              "  }\n",
              "\n",
              "  .colab-df-quickchart:hover {\n",
              "    background-color: var(--hover-bg-color);\n",
              "    box-shadow: 0 1px 2px rgba(60, 64, 67, 0.3), 0 1px 3px 1px rgba(60, 64, 67, 0.15);\n",
              "    fill: var(--button-hover-fill-color);\n",
              "  }\n",
              "\n",
              "  .colab-df-quickchart-complete:disabled,\n",
              "  .colab-df-quickchart-complete:disabled:hover {\n",
              "    background-color: var(--disabled-bg-color);\n",
              "    fill: var(--disabled-fill-color);\n",
              "    box-shadow: none;\n",
              "  }\n",
              "\n",
              "  .colab-df-spinner {\n",
              "    border: 2px solid var(--fill-color);\n",
              "    border-color: transparent;\n",
              "    border-bottom-color: var(--fill-color);\n",
              "    animation:\n",
              "      spin 1s steps(1) infinite;\n",
              "  }\n",
              "\n",
              "  @keyframes spin {\n",
              "    0% {\n",
              "      border-color: transparent;\n",
              "      border-bottom-color: var(--fill-color);\n",
              "      border-left-color: var(--fill-color);\n",
              "    }\n",
              "    20% {\n",
              "      border-color: transparent;\n",
              "      border-left-color: var(--fill-color);\n",
              "      border-top-color: var(--fill-color);\n",
              "    }\n",
              "    30% {\n",
              "      border-color: transparent;\n",
              "      border-left-color: var(--fill-color);\n",
              "      border-top-color: var(--fill-color);\n",
              "      border-right-color: var(--fill-color);\n",
              "    }\n",
              "    40% {\n",
              "      border-color: transparent;\n",
              "      border-right-color: var(--fill-color);\n",
              "      border-top-color: var(--fill-color);\n",
              "    }\n",
              "    60% {\n",
              "      border-color: transparent;\n",
              "      border-right-color: var(--fill-color);\n",
              "    }\n",
              "    80% {\n",
              "      border-color: transparent;\n",
              "      border-right-color: var(--fill-color);\n",
              "      border-bottom-color: var(--fill-color);\n",
              "    }\n",
              "    90% {\n",
              "      border-color: transparent;\n",
              "      border-bottom-color: var(--fill-color);\n",
              "    }\n",
              "  }\n",
              "</style>\n",
              "\n",
              "  <script>\n",
              "    async function quickchart(key) {\n",
              "      const quickchartButtonEl =\n",
              "        document.querySelector('#' + key + ' button');\n",
              "      quickchartButtonEl.disabled = true;  // To prevent multiple clicks.\n",
              "      quickchartButtonEl.classList.add('colab-df-spinner');\n",
              "      try {\n",
              "        const charts = await google.colab.kernel.invokeFunction(\n",
              "            'suggestCharts', [key], {});\n",
              "      } catch (error) {\n",
              "        console.error('Error during call to suggestCharts:', error);\n",
              "      }\n",
              "      quickchartButtonEl.classList.remove('colab-df-spinner');\n",
              "      quickchartButtonEl.classList.add('colab-df-quickchart-complete');\n",
              "    }\n",
              "    (() => {\n",
              "      let quickchartButtonEl =\n",
              "        document.querySelector('#df-3ec0cd3b-2bba-4c53-97ec-68b3009c712f button');\n",
              "      quickchartButtonEl.style.display =\n",
              "        google.colab.kernel.accessAllowed ? 'block' : 'none';\n",
              "    })();\n",
              "  </script>\n",
              "</div>\n",
              "    </div>\n",
              "  </div>\n"
            ]
          },
          "metadata": {},
          "execution_count": 28
        }
      ]
    },
    {
      "cell_type": "markdown",
      "source": [
        "# Выводы"
      ],
      "metadata": {
        "id": "eUZSdREybuxw"
      }
    },
    {
      "cell_type": "markdown",
      "source": [
        "Из результатов видно, что все три модели дают примерно схожие результаты по точности предскзаний."
      ],
      "metadata": {
        "id": "jKXi5Xkobxx2"
      }
    }
  ]
}